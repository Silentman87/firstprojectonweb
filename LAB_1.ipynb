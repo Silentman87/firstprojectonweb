{
 "cells": [
  {
   "cell_type": "markdown",
   "id": "bdf8d9ae",
   "metadata": {},
   "source": [
    "# Palindrome Check: Write a program to check if a given string is a palindrome.\n",
    "string = \"radar\""
   ]
  },
  {
   "cell_type": "code",
   "execution_count": 1,
   "id": "5b20ab19",
   "metadata": {},
   "outputs": [
    {
     "name": "stdout",
     "output_type": "stream",
     "text": [
      "radar is a palindrome\n"
     ]
    }
   ],
   "source": [
    "string = \"radar\"\n",
    "if string == string[::-1]:\n",
    "    print(string, \"is a palindrome\")\n",
    "else:\n",
    "    print(string, \"is not a palindrome\")\n"
   ]
  },
  {
   "cell_type": "markdown",
   "id": "ff9ba6b1",
   "metadata": {},
   "source": [
    "# Count Occurrences of a Substring: Write a program to count the number of times a substring appears in a given string.\n",
    "string = \"hello world, hello universe\" \n",
    "substring = \"hello\"\n"
   ]
  },
  {
   "cell_type": "code",
   "execution_count": 2,
   "id": "7df8ede3",
   "metadata": {},
   "outputs": [
    {
     "name": "stdout",
     "output_type": "stream",
     "text": [
      "The substring hello appears 2 times\n"
     ]
    }
   ],
   "source": [
    "string = \"hello world, hello universe\"\n",
    "substring = \"hello\"\n",
    "count = string.count(substring)\n",
    "print(\"The substring\", substring, \"appears\", count, \"times\")\n"
   ]
  },
  {
   "cell_type": "markdown",
   "id": "b3f9fa15",
   "metadata": {},
   "source": [
    "# Remove Punctuation from String: Write a program to remove all punctuation from a string.\n",
    "string = \"Hello, world! How's it going?\"\n"
   ]
  },
  {
   "cell_type": "code",
   "execution_count": 3,
   "id": "20f1ba55",
   "metadata": {},
   "outputs": [
    {
     "name": "stdout",
     "output_type": "stream",
     "text": [
      "String without punctuation: Hello world Hows it going\n"
     ]
    }
   ],
   "source": [
    "import string\n",
    "\n",
    "my_string = \"Hello, world! How's it going?\"\n",
    "cleaned_string = my_string.translate(str.maketrans('', '', string.punctuation))\n",
    "print(\"String without punctuation:\", cleaned_string)\n"
   ]
  },
  {
   "cell_type": "markdown",
   "id": "e589b364",
   "metadata": {},
   "source": [
    "# Find Longest Word in a String: Write a program to find the longest word in a given string.\n",
    "sentence = \"Find the longest word in this sentence\"\n"
   ]
  },
  {
   "cell_type": "code",
   "execution_count": 6,
   "id": "1ce6b379",
   "metadata": {},
   "outputs": [
    {
     "name": "stdout",
     "output_type": "stream",
     "text": [
      "The longest word is: sentence\n"
     ]
    }
   ],
   "source": [
    "sentence = \"Find the longest word in this sentence\"\n",
    "words = sentence.split()\n",
    "longest_word = max(words, key=len)\n",
    "print(\"The longest word is:\", longest_word)\n"
   ]
  },
  {
   "cell_type": "markdown",
   "id": "756c92b0",
   "metadata": {},
   "source": [
    "# Check Anagram: Write a program to check if two given strings are anagrams.\n",
    "string1 = \"listen\" \n",
    "string2 = \"silent\"\n"
   ]
  },
  {
   "cell_type": "code",
   "execution_count": 7,
   "id": "eebccd8f",
   "metadata": {},
   "outputs": [
    {
     "name": "stdout",
     "output_type": "stream",
     "text": [
      "listen and silent are anagrams\n"
     ]
    }
   ],
   "source": [
    "string1 = \"listen\"\n",
    "string2 = \"silent\"\n",
    "if sorted(string1) == sorted(string2):\n",
    "    print(string1, \"and\", string2, \"are anagrams\")\n",
    "else:\n",
    "    print(string1, \"and\", string2, \"are not anagrams\")\n"
   ]
  },
  {
   "cell_type": "markdown",
   "id": "af1c5c4a",
   "metadata": {},
   "source": [
    "# Character Frequency: Write a program to count the frequency of each character in a string.\n",
    "string = \"hello world\"\n"
   ]
  },
  {
   "cell_type": "code",
   "execution_count": 8,
   "id": "e59a8e84",
   "metadata": {},
   "outputs": [
    {
     "name": "stdout",
     "output_type": "stream",
     "text": [
      "Character frequency: {'h': 1, 'e': 1, 'l': 3, 'o': 2, ' ': 1, 'w': 1, 'r': 1, 'd': 1}\n"
     ]
    }
   ],
   "source": [
    "string = \"hello world\"\n",
    "frequency = {}\n",
    "for char in string:\n",
    "    if char in frequency:\n",
    "        frequency[char] += 1\n",
    "    else:\n",
    "        frequency[char] = 1\n",
    "print(\"Character frequency:\", frequency)\n"
   ]
  },
  {
   "cell_type": "markdown",
   "id": "6770ab64",
   "metadata": {},
   "source": [
    "# String Compression: Write a program to compress a string using the counts of repeated characters. For example, the string \"aabcccccaaa\" should become \"a2b1c5a3\".\n",
    "string = \"aabcccccaaa\" \n",
    "compressed_string = \"\" \n",
    "count = 1\n"
   ]
  },
  {
   "cell_type": "code",
   "execution_count": 9,
   "id": "cd700c82",
   "metadata": {},
   "outputs": [
    {
     "name": "stdout",
     "output_type": "stream",
     "text": [
      "Compressed string: a2b1c5a3\n"
     ]
    }
   ],
   "source": [
    "string = \"aabcccccaaa\"\n",
    "compressed_string = \"\"\n",
    "count = 1\n",
    "\n",
    "for i in range(1, len(string)):\n",
    "    if string[i] == string[i - 1]:\n",
    "        count += 1\n",
    "    else:\n",
    "        compressed_string += string[i - 1] + str(count)\n",
    "        count = 1\n",
    "compressed_string += string[-1] + str(count)\n",
    "\n",
    "if len(compressed_string) < len(string):\n",
    "    print(\"Compressed string:\", compressed_string)\n",
    "else:\n",
    "    print(\"Compressed string is longer. Original string:\", string)\n"
   ]
  },
  {
   "cell_type": "markdown",
   "id": "061c8151",
   "metadata": {},
   "source": [
    "# Title Case String: Write a program to convert a given string to title case.\n",
    "string = \"convert this string to title case\"\n"
   ]
  },
  {
   "cell_type": "code",
   "execution_count": 10,
   "id": "466f2cfb",
   "metadata": {},
   "outputs": [
    {
     "name": "stdout",
     "output_type": "stream",
     "text": [
      "Title case string: Convert This String To Title Case\n"
     ]
    }
   ],
   "source": [
    "string = \"convert this string to title case\"\n",
    "title_case_string = string.title()\n",
    "print(\"Title case string:\", title_case_string)\n"
   ]
  },
  {
   "cell_type": "markdown",
   "id": "7f84c1de",
   "metadata": {},
   "source": [
    "# Count Words in a String: Write a program to count the number of words in a string.\n",
    "sentence = \"Count the number of words in this sentence\"\n"
   ]
  },
  {
   "cell_type": "code",
   "execution_count": 11,
   "id": "5f9a8f77",
   "metadata": {},
   "outputs": [
    {
     "name": "stdout",
     "output_type": "stream",
     "text": [
      "The number of words is: 8\n"
     ]
    }
   ],
   "source": [
    "sentence = \"Count the number of words in this sentence\"\n",
    "words = sentence.split()\n",
    "word_count = len(words)\n",
    "print(\"The number of words is:\", word_count)\n"
   ]
  },
  {
   "cell_type": "markdown",
   "id": "6ba26a45",
   "metadata": {},
   "source": [
    "# Replace Substring: Write a program to replace all occurrences of a substring in a string with another substring.\n",
    "string = \"Hello world, welcome to the world of Python\" \n",
    "old_substring = \"world\" \n",
    "new_substring = \"universe\"\n"
   ]
  },
  {
   "cell_type": "code",
   "execution_count": 12,
   "id": "a78b650e",
   "metadata": {},
   "outputs": [
    {
     "name": "stdout",
     "output_type": "stream",
     "text": [
      "String after replacement: Hello universe, welcome to the universe of Python\n"
     ]
    }
   ],
   "source": [
    "string = \"Hello world, welcome to the world of Python\"\n",
    "old_substring = \"world\"\n",
    "new_substring = \"universe\"\n",
    "replaced_string = string.replace(old_substring, new_substring)\n",
    "print(\"String after replacement:\", replaced_string)\n"
   ]
  },
  {
   "cell_type": "code",
   "execution_count": null,
   "id": "3244591a",
   "metadata": {},
   "outputs": [],
   "source": []
  },
  {
   "cell_type": "code",
   "execution_count": null,
   "id": "3182c932",
   "metadata": {},
   "outputs": [],
   "source": []
  },
  {
   "cell_type": "code",
   "execution_count": null,
   "id": "ccd5b3cd",
   "metadata": {},
   "outputs": [],
   "source": []
  },
  {
   "cell_type": "code",
   "execution_count": null,
   "id": "75b7131b",
   "metadata": {},
   "outputs": [],
   "source": []
  }
 ],
 "metadata": {
  "kernelspec": {
   "display_name": "Python 3 (ipykernel)",
   "language": "python",
   "name": "python3"
  },
  "language_info": {
   "codemirror_mode": {
    "name": "ipython",
    "version": 3
   },
   "file_extension": ".py",
   "mimetype": "text/x-python",
   "name": "python",
   "nbconvert_exporter": "python",
   "pygments_lexer": "ipython3",
   "version": "3.7.13"
  }
 },
 "nbformat": 4,
 "nbformat_minor": 5
}
